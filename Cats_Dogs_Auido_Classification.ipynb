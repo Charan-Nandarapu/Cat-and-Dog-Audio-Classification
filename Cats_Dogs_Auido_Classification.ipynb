{
  "cells": [
    {
      "cell_type": "code",
      "execution_count": null,
      "metadata": {
        "id": "UIg5-fI0pqOw"
      },
      "outputs": [],
      "source": [
        "import warnings\n",
        "warnings.filterwarnings('ignore')\n",
        "import pandas as pd\n",
        "import numpy as np\n",
        "import librosa\n",
        "import matplotlib.pyplot as plt\n",
        "\n",
        "import os\n",
        "from PIL import Image\n",
        "from pathlib import Path\n",
        "import csv\n",
        "\n",
        "from sklearn.model_selection import train_test_split\n",
        "from sklearn.preprocessing import LabelEncoder, StandardScaler\n",
        "\n",
        "from sklearn.linear_model import LinearRegression\n",
        "from sklearn.svm import SVC\n",
        "from sklearn.ensemble import RandomForestClassifier\n",
        "\n",
        "import tensorflow as tf\n",
        "import librosa.display\n",
        "import librosa\n",
        "import numpy as np\n",
        "import pandas as pd\n",
        "from tensorflow.keras.utils import to_categorical\n",
        "from sklearn.preprocessing import LabelEncoder\n",
        "from sklearn.model_selection import train_test_split\n",
        "from tensorflow.keras.models import Sequential\n",
        "from tensorflow.keras.layers import Dense,Dropout,Activation,Flatten\n",
        "from tensorflow.keras.optimizers import Adam\n",
        "from sklearn import metrics\n",
        "import tensorflow.keras.layers as layers\n",
        "import IPython.display as ipd"
      ]
    },
    {
      "cell_type": "code",
      "execution_count": null,
      "metadata": {
        "id": "GMsbepLtpqO0"
      },
      "outputs": [],
      "source": [
        "\n",
        "    ### Let's read a sample audio using librosa\n",
        "import librosa\n",
        "audio_file_path=\"/content/dog_test.wav\"\n",
        "librosa_audio_data,librosa_sample_rate=librosa.load(audio_file_path)"
      ]
    },
    {
      "cell_type": "code",
      "execution_count": null,
      "metadata": {
        "colab": {
          "base_uri": "https://localhost:8080/"
        },
        "id": "Iu8a1BSTpqO0",
        "outputId": "210235b1-f1e9-47ec-df14-2580f95fdf8e"
      },
      "outputs": [
        {
          "output_type": "stream",
          "name": "stdout",
          "text": [
            "[-2.8719089e-08  3.1861163e-08 -3.2431657e-08 ...  0.0000000e+00\n",
            "  0.0000000e+00  0.0000000e+00]\n"
          ]
        }
      ],
      "source": [
        "print(librosa_audio_data)"
      ]
    },
    {
      "cell_type": "code",
      "execution_count": null,
      "metadata": {
        "colab": {
          "base_uri": "https://localhost:8080/"
        },
        "id": "QqgAlAvLpqO1",
        "outputId": "292a4c05-37f8-4f5b-e210-0129398bada0"
      },
      "outputs": [
        {
          "output_type": "stream",
          "name": "stdout",
          "text": [
            "(40, 1517)\n"
          ]
        }
      ],
      "source": [
        "mfccs = librosa.feature.mfcc(y=librosa_audio_data, sr=librosa_sample_rate, n_mfcc=40)\n",
        "print(mfccs.shape)"
      ]
    },
    {
      "cell_type": "code",
      "execution_count": null,
      "metadata": {
        "id": "cb0cyu6RpqO1"
      },
      "outputs": [],
      "source": [
        "a=[]\n",
        "a.append(mfccs)"
      ]
    },
    {
      "cell_type": "code",
      "execution_count": null,
      "metadata": {
        "colab": {
          "base_uri": "https://localhost:8080/",
          "height": 271
        },
        "id": "porF4JUEpqO2",
        "outputId": "97205133-f1e9-4dee-932a-ec67fa494f9b"
      },
      "outputs": [
        {
          "output_type": "execute_result",
          "data": {
            "text/plain": [
              "<matplotlib.collections.QuadMesh at 0x7fa92839c3d0>"
            ]
          },
          "metadata": {},
          "execution_count": 16
        },
        {
          "output_type": "display_data",
          "data": {
            "text/plain": [
              "<Figure size 432x288 with 1 Axes>"
            ],
            "image/png": "[encoded data removed]"
          },
          "metadata": {
            "needs_background": "light"
          }
        }
      ],
      "source": [
        "librosa.display.specshow(mfccs, y_axis='linear')"
      ]
    },
    {
      "cell_type": "code",
      "execution_count": null,
      "metadata": {
        "colab": {
          "base_uri": "https://localhost:8080/"
        },
        "id": "RRw-21VoHfqH",
        "outputId": "f7792c53-dd7c-48c0-eb12-a036bef77c88"
      },
      "outputs": [
        {
          "name": "stdout",
          "output_type": "stream",
          "text": [
            "Mounted at /content/drive\n"
          ]
        }
      ],
      "source": [
        "from google.colab import drive\n",
        "drive.mount('/content/drive')"
      ]
    },
    {
      "cell_type": "code",
      "execution_count": null,
      "metadata": {
        "id": "pRBVjuUmpqO2"
      },
      "outputs": [],
      "source": [
        "import numpy as np\n",
        "dataset = []\n",
        "cla=[]\n",
        "genres = {'cat': 0, 'dog_barking': 1}\n",
        "\n",
        "for genre, genre_number in genres.items():\n",
        "    for filename in os.listdir(f'/content/drive/MyDrive/catsANDdogs/{genre}'):\n",
        "        songname = f'/content/drive/MyDrive/catsANDdogs/{genre}/{filename}'\n",
        "        for index in range(14):\n",
        "            audio, sr = librosa.load(songname)\n",
        "            mfcc_fea = np.mean(librosa.feature.mfcc(y=audio, sr=sr, n_mfcc=40).T,axis=0)\n",
        "            fea_class=genre\n",
        "            dataset.append(mfcc_fea)\n",
        "            cla.append(fea_class)"
      ]
    },
    {
      "cell_type": "code",
      "execution_count": null,
      "metadata": {
        "id": "GZ6FclnXpqO3"
      },
      "outputs": [],
      "source": [
        "d = {'Features':dataset,'class':cla}"
      ]
    },
    {
      "cell_type": "code",
      "execution_count": null,
      "metadata": {
        "id": "sFavFOzDpqO3",
        "outputId": "f867771b-40fd-4eb8-cc00-fb98a981b1ae",
        "colab": {
          "base_uri": "https://localhost:8080/",
          "height": 206
        }
      },
      "outputs": [
        {
          "output_type": "execute_result",
          "data": {
            "text/plain": [
              "                                            Features class\n",
              "0  [-163.72688, 161.08112, -70.27767, 22.36542, -...   cat\n",
              "1  [-163.72688, 161.08112, -70.27767, 22.36542, -...   cat\n",
              "2  [-163.72688, 161.08112, -70.27767, 22.36542, -...   cat\n",
              "3  [-163.72688, 161.08112, -70.27767, 22.36542, -...   cat\n",
              "4  [-163.72688, 161.08112, -70.27767, 22.36542, -...   cat"
            ],
            "text/html": [
              "\n",
              "  <div id=\"df-06163f9c-334c-4c0e-9b79-4088fd502a12\">\n",
              "    <div class=\"colab-df-container\">\n",
              "      <div>\n",
              "<style scoped>\n",
              "    .dataframe tbody tr th:only-of-type {\n",
              "        vertical-align: middle;\n",
              "    }\n",
              "\n",
              "    .dataframe tbody tr th {\n",
              "        vertical-align: top;\n",
              "    }\n",
              "\n",
              "    .dataframe thead th {\n",
              "        text-align: right;\n",
              "    }\n",
              "</style>\n",
              "<table border=\"1\" class=\"dataframe\">\n",
              "  <thead>\n",
              "    <tr style=\"text-align: right;\">\n",
              "      <th></th>\n",
              "      <th>Features</th>\n",
              "      <th>class</th>\n",
              "    </tr>\n",
              "  </thead>\n",
              "  <tbody>\n",
              "    <tr>\n",
              "      <th>0</th>\n",
              "      <td>[-163.72688, 161.08112, -70.27767, 22.36542, -...</td>\n",
              "      <td>cat</td>\n",
              "    </tr>\n",
              "    <tr>\n",
              "      <th>1</th>\n",
              "      <td>[-163.72688, 161.08112, -70.27767, 22.36542, -...</td>\n",
              "      <td>cat</td>\n",
              "    </tr>\n",
              "    <tr>\n",
              "      <th>2</th>\n",
              "      <td>[-163.72688, 161.08112, -70.27767, 22.36542, -...</td>\n",
              "      <td>cat</td>\n",
              "    </tr>\n",
              "    <tr>\n",
              "      <th>3</th>\n",
              "      <td>[-163.72688, 161.08112, -70.27767, 22.36542, -...</td>\n",
              "      <td>cat</td>\n",
              "    </tr>\n",
              "    <tr>\n",
              "      <th>4</th>\n",
              "      <td>[-163.72688, 161.08112, -70.27767, 22.36542, -...</td>\n",
              "      <td>cat</td>\n",
              "    </tr>\n",
              "  </tbody>\n",
              "</table>\n",
              "</div>\n",
              "      <button class=\"colab-df-convert\" onclick=\"convertToInteractive('df-06163f9c-334c-4c0e-9b79-4088fd502a12')\"\n",
              "              title=\"Convert this dataframe to an interactive table.\"\n",
              "              style=\"display:none;\">\n",
              "        \n",
              "  <svg xmlns=\"http://www.w3.org/2000/svg\" height=\"24px\"viewBox=\"0 0 24 24\"\n",
              "       width=\"24px\">\n",
              "    <path d=\"M0 0h24v24H0V0z\" fill=\"none\"/>\n",
              "    <path d=\"M18.56 5.44l.94 2.06.94-2.06 2.06-.94-2.06-.94-.94-2.06-.94 2.06-2.06.94zm-11 1L8.5 8.5l.94-2.06 2.06-.94-2.06-.94L8.5 2.5l-.94 2.06-2.06.94zm10 10l.94 2.06.94-2.06 2.06-.94-2.06-.94-.94-2.06-.94 2.06-2.06.94z\"/><path d=\"M17.41 7.96l-1.37-1.37c-.4-.4-.92-.59-1.43-.59-.52 0-1.04.2-1.43.59L10.3 9.45l-7.72 7.72c-.78.78-.78 2.05 0 2.83L4 21.41c.39.39.9.59 1.41.59.51 0 1.02-.2 1.41-.59l7.78-7.78 2.81-2.81c.8-.78.8-2.07 0-2.86zM5.41 20L4 18.59l7.72-7.72 1.47 1.35L5.41 20z\"/>\n",
              "  </svg>\n",
              "      </button>\n",
              "      \n",
              "  <style>\n",
              "    .colab-df-container {\n",
              "      display:flex;\n",
              "      flex-wrap:wrap;\n",
              "      gap: 12px;\n",
              "    }\n",
              "\n",
              "    .colab-df-convert {\n",
              "      background-color: #E8F0FE;\n",
              "      border: none;\n",
              "      border-radius: 50%;\n",
              "      cursor: pointer;\n",
              "      display: none;\n",
              "      fill: #1967D2;\n",
              "      height: 32px;\n",
              "      padding: 0 0 0 0;\n",
              "      width: 32px;\n",
              "    }\n",
              "\n",
              "    .colab-df-convert:hover {\n",
              "      background-color: #E2EBFA;\n",
              "      box-shadow: 0px 1px 2px rgba(60, 64, 67, 0.3), 0px 1px 3px 1px rgba(60, 64, 67, 0.15);\n",
              "      fill: #174EA6;\n",
              "    }\n",
              "\n",
              "    [theme=dark] .colab-df-convert {\n",
              "      background-color: #3B4455;\n",
              "      fill: #D2E3FC;\n",
              "    }\n",
              "\n",
              "    [theme=dark] .colab-df-convert:hover {\n",
              "      background-color: #434B5C;\n",
              "      box-shadow: 0px 1px 3px 1px rgba(0, 0, 0, 0.15);\n",
              "      filter: drop-shadow(0px 1px 2px rgba(0, 0, 0, 0.3));\n",
              "      fill: #FFFFFF;\n",
              "    }\n",
              "  </style>\n",
              "\n",
              "      <script>\n",
              "        const buttonEl =\n",
              "          document.querySelector('#df-06163f9c-334c-4c0e-9b79-4088fd502a12 button.colab-df-convert');\n",
              "        buttonEl.style.display =\n",
              "          google.colab.kernel.accessAllowed ? 'block' : 'none';\n",
              "\n",
              "        async function convertToInteractive(key) {\n",
              "          const element = document.querySelector('#df-06163f9c-334c-4c0e-9b79-4088fd502a12');\n",
              "          const dataTable =\n",
              "            await google.colab.kernel.invokeFunction('convertToInteractive',\n",
              "                                                     [key], {});\n",
              "          if (!dataTable) return;\n",
              "\n",
              "          const docLinkHtml = 'Like what you see? Visit the ' +\n",
              "            '<a target=\"_blank\" href=https://colab.research.google.com/notebooks/data_table.ipynb>data table notebook</a>'\n",
              "            + ' to learn more about interactive tables.';\n",
              "          element.innerHTML = '';\n",
              "          dataTable['output_type'] = 'display_data';\n",
              "          await google.colab.output.renderOutput(dataTable, element);\n",
              "          const docLink = document.createElement('div');\n",
              "          docLink.innerHTML = docLinkHtml;\n",
              "          element.appendChild(docLink);\n",
              "        }\n",
              "      </script>\n",
              "    </div>\n",
              "  </div>\n",
              "  "
            ]
          },
          "metadata": {},
          "execution_count": 18
        }
      ],
      "source": [
        "import pandas as pd\n",
        "extracted_features_df=pd.DataFrame(d)\n",
        "extracted_features_df.head()"
      ]
    },
    {
      "cell_type": "code",
      "execution_count": null,
      "metadata": {
        "id": "2QKzDoHhpqO3"
      },
      "outputs": [],
      "source": [
        "### Split the dataset into independent and dependent dataset\n",
        "X=np.array(dataset)\n",
        "#(extracted_features_df['Features'].tolist())\n",
        "y=np.array(extracted_features_df['class'].tolist())"
      ]
    },
    {
      "cell_type": "code",
      "execution_count": null,
      "metadata": {
        "id": "gnE-lCLypqO4",
        "outputId": "831bd8b5-a554-4832-a882-cae004800074",
        "colab": {
          "base_uri": "https://localhost:8080/"
        }
      },
      "outputs": [
        {
          "output_type": "execute_result",
          "data": {
            "text/plain": [
              "(3878, 40)"
            ]
          },
          "metadata": {},
          "execution_count": 20
        }
      ],
      "source": [
        "X.shape"
      ]
    },
    {
      "cell_type": "code",
      "execution_count": null,
      "metadata": {
        "id": "pYp42rgYpqO4",
        "outputId": "d4d9b0e2-4094-49ac-e0c6-1baf2d008160",
        "colab": {
          "base_uri": "https://localhost:8080/"
        }
      },
      "outputs": [
        {
          "output_type": "execute_result",
          "data": {
            "text/plain": [
              "array(['cat', 'cat', 'cat', ..., 'dog_barking', 'dog_barking',\n",
              "       'dog_barking'], dtype='<U11')"
            ]
          },
          "metadata": {},
          "execution_count": 21
        }
      ],
      "source": [
        "y"
      ]
    },
    {
      "cell_type": "code",
      "execution_count": null,
      "metadata": {
        "id": "rmYefTHIpqO4"
      },
      "outputs": [],
      "source": [
        "### Label Encoding\n",
        "###y=np.array(pd.get_dummies(y))\n",
        "### Label Encoder\n",
        "from tensorflow.keras.utils import to_categorical\n",
        "from sklearn.preprocessing import LabelEncoder\n",
        "labelencoder=LabelEncoder()\n",
        "y=to_categorical(labelencoder.fit_transform(y))"
      ]
    },
    {
      "cell_type": "code",
      "execution_count": null,
      "metadata": {
        "id": "zrmOBdzQpqO4"
      },
      "outputs": [],
      "source": [
        "### Train Test Split\n",
        "from sklearn.model_selection import train_test_split\n",
        "X_train,X_test,y_train,y_test=train_test_split(X,y,test_size=0.2,random_state=0)"
      ]
    },
    {
      "cell_type": "code",
      "execution_count": null,
      "metadata": {
        "id": "jz9mkarDpqO5",
        "outputId": "5fc455cb-088f-483c-a5dc-229379ed3c0a",
        "colab": {
          "base_uri": "https://localhost:8080/"
        }
      },
      "outputs": [
        {
          "output_type": "execute_result",
          "data": {
            "text/plain": [
              "(3102, 40)"
            ]
          },
          "metadata": {},
          "execution_count": 24
        }
      ],
      "source": [
        "X_train.shape"
      ]
    },
    {
      "cell_type": "code",
      "execution_count": null,
      "metadata": {
        "id": "p3UHXbEEpqO5",
        "outputId": "4aefab68-76fd-4a39-a48c-9dc6a2703a59",
        "colab": {
          "base_uri": "https://localhost:8080/"
        }
      },
      "outputs": [
        {
          "output_type": "execute_result",
          "data": {
            "text/plain": [
              "(776, 40)"
            ]
          },
          "metadata": {},
          "execution_count": 25
        }
      ],
      "source": [
        "X_test.shape"
      ]
    },
    {
      "cell_type": "code",
      "execution_count": null,
      "metadata": {
        "id": "pbdeva8EpqO5",
        "outputId": "3bf47ef2-2b50-4a1e-dfbb-f542669ebace",
        "colab": {
          "base_uri": "https://localhost:8080/"
        }
      },
      "outputs": [
        {
          "output_type": "execute_result",
          "data": {
            "text/plain": [
              "(3102, 2)"
            ]
          },
          "metadata": {},
          "execution_count": 26
        }
      ],
      "source": [
        "y_train.shape"
      ]
    },
    {
      "cell_type": "code",
      "execution_count": null,
      "metadata": {
        "id": "pDTU_J9-pqO6",
        "outputId": "6278713f-5c7f-4757-8b9f-05c380bf9f0c",
        "colab": {
          "base_uri": "https://localhost:8080/"
        }
      },
      "outputs": [
        {
          "output_type": "execute_result",
          "data": {
            "text/plain": [
              "(776, 2)"
            ]
          },
          "metadata": {},
          "execution_count": 27
        }
      ],
      "source": [
        "y_test.shape"
      ]
    },
    {
      "cell_type": "code",
      "execution_count": null,
      "metadata": {
        "id": "o35X7bUnpqO6"
      },
      "outputs": [],
      "source": [
        "X_train=np.reshape(X_train,(X_train.shape[0],10,4,1))\n",
        "X_test=np.reshape(X_test,(X_test.shape[0],10,4,1))"
      ]
    },
    {
      "cell_type": "code",
      "execution_count": null,
      "metadata": {
        "id": "Rlna4SjopqO6"
      },
      "outputs": [],
      "source": [
        "INPUTSHAPE = (10,4,1)"
      ]
    },
    {
      "cell_type": "code",
      "execution_count": null,
      "metadata": {
        "id": "Et7wtdfopqO6",
        "outputId": "289f00d8-17b3-4f40-98f2-9edac2e274ec",
        "colab": {
          "base_uri": "https://localhost:8080/"
        }
      },
      "outputs": [
        {
          "output_type": "stream",
          "name": "stdout",
          "text": [
            "Model: \"sequential\"\n",
            "_________________________________________________________________\n",
            " Layer (type)                Output Shape              Param #   \n",
            "=================================================================\n",
            " conv2d (Conv2D)             (None, 8, 2, 32)          320       \n",
            "                                                                 \n",
            " max_pooling2d (MaxPooling2D  (None, 4, 1, 32)         0         \n",
            " )                                                               \n",
            "                                                                 \n",
            " flatten (Flatten)           (None, 128)               0         \n",
            "                                                                 \n",
            " dense (Dense)               (None, 512)               66048     \n",
            "                                                                 \n",
            " dense_1 (Dense)             (None, 2)                 1026      \n",
            "                                                                 \n",
            "=================================================================\n",
            "Total params: 67,394\n",
            "Trainable params: 67,394\n",
            "Non-trainable params: 0\n",
            "_________________________________________________________________\n"
          ]
        }
      ],
      "source": [
        "model = Sequential([\n",
        "    \n",
        "                          layers.Conv2D(32 , (3,3),activation = 'relu',padding='valid', input_shape = INPUTSHAPE),  \n",
        "                          layers.MaxPooling2D(2, padding='same'),\n",
        "                          #layers.Conv2D(128, (3,3), activation='relu',padding='valid'),\n",
        "                          #layers.MaxPooling2D(2, padding='same'),\n",
        "                          #layers.Dropout(0.3),\n",
        "                          #layers.Conv2D(128, (3,3), activation='relu',padding='valid'),\n",
        "                          #layers.MaxPooling2D(2, padding='same'),\n",
        "                          #layers.Dropout(0.3),\n",
        "                          #layers.GlobalAveragePooling2D(),\n",
        "                          layers.Flatten(),\n",
        "                          layers.Dense(512 , activation = 'relu'),\n",
        "                          layers.Dense(2 , activation = 'softmax')\n",
        "])\n",
        "\n",
        "model.compile(loss = 'binary_crossentropy', optimizer = 'adam', metrics = 'acc')\n",
        "model.summary()"
      ]
    },
    {
      "cell_type": "code",
      "execution_count": null,
      "metadata": {
        "id": "lkNkvpnlpqO6",
        "outputId": "6111cede-6b23-414f-cb05-360421457685",
        "colab": {
          "base_uri": "https://localhost:8080/"
        }
      },
      "outputs": [
        {
          "output_type": "stream",
          "name": "stdout",
          "text": [
            "Epoch 1/40\n",
            "388/388 [==============================] - 2s 4ms/step - loss: 0.3368 - acc: 0.8856 - val_loss: 0.1620 - val_acc: 0.9394\n",
            "Epoch 2/40\n",
            "388/388 [==============================] - 1s 3ms/step - loss: 0.0856 - acc: 0.9720 - val_loss: 0.0491 - val_acc: 0.9910\n",
            "Epoch 3/40\n",
            "388/388 [==============================] - 2s 4ms/step - loss: 0.0727 - acc: 0.9739 - val_loss: 0.0191 - val_acc: 1.0000\n",
            "Epoch 4/40\n",
            "388/388 [==============================] - 1s 4ms/step - loss: 0.0125 - acc: 0.9977 - val_loss: 0.0224 - val_acc: 0.9936\n",
            "Epoch 5/40\n",
            "388/388 [==============================] - 1s 3ms/step - loss: 0.0047 - acc: 1.0000 - val_loss: 0.0032 - val_acc: 1.0000\n",
            "Epoch 6/40\n",
            "388/388 [==============================] - 2s 5ms/step - loss: 0.0021 - acc: 1.0000 - val_loss: 0.0017 - val_acc: 1.0000\n",
            "Epoch 7/40\n",
            "388/388 [==============================] - 2s 6ms/step - loss: 0.0012 - acc: 1.0000 - val_loss: 0.0010 - val_acc: 1.0000\n",
            "Epoch 8/40\n",
            "388/388 [==============================] - 2s 4ms/step - loss: 7.0672e-04 - acc: 1.0000 - val_loss: 6.6400e-04 - val_acc: 1.0000\n",
            "Epoch 9/40\n",
            "388/388 [==============================] - 1s 3ms/step - loss: 4.8484e-04 - acc: 1.0000 - val_loss: 4.6532e-04 - val_acc: 1.0000\n",
            "Epoch 10/40\n",
            "388/388 [==============================] - 1s 3ms/step - loss: 3.2796e-04 - acc: 1.0000 - val_loss: 3.6524e-04 - val_acc: 1.0000\n",
            "Epoch 11/40\n",
            "388/388 [==============================] - 2s 4ms/step - loss: 2.2705e-04 - acc: 1.0000 - val_loss: 2.2789e-04 - val_acc: 1.0000\n",
            "Epoch 12/40\n",
            "388/388 [==============================] - 1s 3ms/step - loss: 1.6291e-04 - acc: 1.0000 - val_loss: 1.6785e-04 - val_acc: 1.0000\n",
            "Epoch 13/40\n",
            "388/388 [==============================] - 1s 3ms/step - loss: 1.1886e-04 - acc: 1.0000 - val_loss: 1.3846e-04 - val_acc: 1.0000\n",
            "Epoch 14/40\n",
            "388/388 [==============================] - 1s 4ms/step - loss: 9.1017e-05 - acc: 1.0000 - val_loss: 9.1553e-05 - val_acc: 1.0000\n",
            "Epoch 15/40\n",
            "388/388 [==============================] - 1s 3ms/step - loss: 6.7518e-05 - acc: 1.0000 - val_loss: 6.9962e-05 - val_acc: 1.0000\n",
            "Epoch 16/40\n",
            "388/388 [==============================] - 2s 4ms/step - loss: 5.0719e-05 - acc: 1.0000 - val_loss: 5.4272e-05 - val_acc: 1.0000\n",
            "Epoch 17/40\n",
            "388/388 [==============================] - 2s 6ms/step - loss: 3.8780e-05 - acc: 1.0000 - val_loss: 4.1996e-05 - val_acc: 1.0000\n",
            "Epoch 18/40\n",
            "388/388 [==============================] - 2s 5ms/step - loss: 2.9408e-05 - acc: 1.0000 - val_loss: 3.3351e-05 - val_acc: 1.0000\n",
            "Epoch 19/40\n",
            "388/388 [==============================] - 1s 3ms/step - loss: 2.3803e-05 - acc: 1.0000 - val_loss: 2.5385e-05 - val_acc: 1.0000\n",
            "Epoch 20/40\n",
            "388/388 [==============================] - 1s 3ms/step - loss: 1.7821e-05 - acc: 1.0000 - val_loss: 1.9600e-05 - val_acc: 1.0000\n",
            "Epoch 21/40\n",
            "388/388 [==============================] - 1s 3ms/step - loss: 1.3844e-05 - acc: 1.0000 - val_loss: 1.5650e-05 - val_acc: 1.0000\n",
            "Epoch 22/40\n",
            "388/388 [==============================] - 1s 4ms/step - loss: 1.0761e-05 - acc: 1.0000 - val_loss: 1.3239e-05 - val_acc: 1.0000\n",
            "Epoch 23/40\n",
            "388/388 [==============================] - 1s 4ms/step - loss: 8.4577e-06 - acc: 1.0000 - val_loss: 8.8796e-06 - val_acc: 1.0000\n",
            "Epoch 24/40\n",
            "388/388 [==============================] - 1s 3ms/step - loss: 6.5319e-06 - acc: 1.0000 - val_loss: 7.3618e-06 - val_acc: 1.0000\n",
            "Epoch 25/40\n",
            "388/388 [==============================] - 1s 3ms/step - loss: 5.0231e-06 - acc: 1.0000 - val_loss: 6.0749e-06 - val_acc: 1.0000\n",
            "Epoch 26/40\n",
            "388/388 [==============================] - 1s 3ms/step - loss: 3.9683e-06 - acc: 1.0000 - val_loss: 4.4297e-06 - val_acc: 1.0000\n",
            "Epoch 27/40\n",
            "388/388 [==============================] - 1s 3ms/step - loss: 3.0734e-06 - acc: 1.0000 - val_loss: 3.4504e-06 - val_acc: 1.0000\n",
            "Epoch 28/40\n",
            "388/388 [==============================] - 1s 3ms/step - loss: 2.4312e-06 - acc: 1.0000 - val_loss: 2.6441e-06 - val_acc: 1.0000\n",
            "Epoch 29/40\n",
            "388/388 [==============================] - 1s 4ms/step - loss: 1.9273e-06 - acc: 1.0000 - val_loss: 2.0851e-06 - val_acc: 1.0000\n",
            "Epoch 30/40\n",
            "388/388 [==============================] - 1s 3ms/step - loss: 1.5179e-06 - acc: 1.0000 - val_loss: 1.6762e-06 - val_acc: 1.0000\n",
            "Epoch 31/40\n",
            "388/388 [==============================] - 1s 3ms/step - loss: 1.1839e-06 - acc: 1.0000 - val_loss: 1.4310e-06 - val_acc: 1.0000\n",
            "Epoch 32/40\n",
            "388/388 [==============================] - 1s 3ms/step - loss: 9.3790e-07 - acc: 1.0000 - val_loss: 1.0414e-06 - val_acc: 1.0000\n",
            "Epoch 33/40\n",
            "388/388 [==============================] - 1s 3ms/step - loss: 7.3312e-07 - acc: 1.0000 - val_loss: 8.1607e-07 - val_acc: 1.0000\n",
            "Epoch 34/40\n",
            "388/388 [==============================] - 1s 3ms/step - loss: 5.7636e-07 - acc: 1.0000 - val_loss: 6.1976e-07 - val_acc: 1.0000\n",
            "Epoch 35/40\n",
            "388/388 [==============================] - 1s 3ms/step - loss: 4.5319e-07 - acc: 1.0000 - val_loss: 4.9280e-07 - val_acc: 1.0000\n",
            "Epoch 36/40\n",
            "388/388 [==============================] - 1s 3ms/step - loss: 3.5632e-07 - acc: 1.0000 - val_loss: 3.7801e-07 - val_acc: 1.0000\n",
            "Epoch 37/40\n",
            "388/388 [==============================] - 1s 3ms/step - loss: 2.8294e-07 - acc: 1.0000 - val_loss: 3.0940e-07 - val_acc: 1.0000\n",
            "Epoch 38/40\n",
            "388/388 [==============================] - 2s 5ms/step - loss: 2.2572e-07 - acc: 1.0000 - val_loss: 2.4279e-07 - val_acc: 1.0000\n",
            "Epoch 39/40\n",
            "388/388 [==============================] - 2s 5ms/step - loss: 1.7558e-07 - acc: 1.0000 - val_loss: 1.9391e-07 - val_acc: 1.0000\n",
            "Epoch 40/40\n",
            "388/388 [==============================] - 2s 5ms/step - loss: 1.4290e-07 - acc: 1.0000 - val_loss: 1.4881e-07 - val_acc: 1.0000\n"
          ]
        }
      ],
      "source": [
        "batch_size = 8\n",
        "callback = tf.keras.callbacks.EarlyStopping(\n",
        "    monitor='val_loss', min_delta=0, patience=8, verbose=0, mode='auto',\n",
        "    baseline=None, restore_best_weights=False)\n",
        "#checkpointer = ModelCheckpoint(filepath='saved_models/audio_classification.hdf5', \n",
        "                             # verbose=1, save_best_only=True)\n",
        "history = model.fit(X_train,y_train ,validation_data=(X_test,y_test),\n",
        "            epochs=40,\n",
        "            callbacks = [callback],batch_size=batch_size)"
      ]
    },
    {
      "cell_type": "code",
      "execution_count": null,
      "metadata": {
        "id": "lWqrxqbppqO7",
        "outputId": "7d75721f-5fff-42d9-b240-147cb9b12101",
        "colab": {
          "base_uri": "https://localhost:8080/",
          "height": 573
        }
      },
      "outputs": [
        {
          "output_type": "display_data",
          "data": {
            "text/plain": [
              "<Figure size 432x288 with 1 Axes>"
            ],
            "image/png": "[encoded data removed]"
          },
          "metadata": {
            "needs_background": "light"
          }
        },
        {
          "output_type": "display_data",
          "data": {
            "text/plain": [
              "<Figure size 432x288 with 1 Axes>"
            ],
            "image/png": "[encoded data removed]"
          },
          "metadata": {
            "needs_background": "light"
          }
        }
      ],
      "source": [
        "import matplotlib.pyplot as plt\n",
        "plt.plot(history.history['acc'])\n",
        "plt.plot(history.history['val_acc'])\n",
        "plt.title('model accuracy')\n",
        "plt.ylabel('accuracy')\n",
        "plt.xlabel('epoch')\n",
        "plt.legend(['train', 'validation'], loc='upper left')\n",
        "plt.show()\n",
        "\n",
        "\n",
        "plt.plot(history.history['loss'])\n",
        "plt.plot(history.history['val_loss'])\n",
        "plt.title('model loss')\n",
        "plt.ylabel('loss')\n",
        "plt.xlabel('epoch')\n",
        "plt.legend(['train', 'validation'], loc='upper left')\n",
        "plt.show()"
      ]
    },
    {
      "cell_type": "code",
      "execution_count": null,
      "metadata": {
        "id": "wQFBnPjfpqO7",
        "outputId": "1352fe8e-d85d-4a1c-da4e-640a656e34de",
        "colab": {
          "base_uri": "https://localhost:8080/"
        }
      },
      "outputs": [
        {
          "output_type": "stream",
          "name": "stdout",
          "text": [
            "1.0\n"
          ]
        }
      ],
      "source": [
        "test_accuracy=model.evaluate(X_test,y_test,verbose=0) \n",
        "print(test_accuracy[1])"
      ]
    },
    {
      "cell_type": "code",
      "execution_count": null,
      "metadata": {
        "id": "8TIWbvxdpqO7"
      },
      "outputs": [],
      "source": [
        "%matplotlib inline\n",
        "from sklearn.metrics import confusion_matrix\n",
        "import itertools\n",
        "import matplotlib.pyplot as plt"
      ]
    },
    {
      "cell_type": "code",
      "execution_count": null,
      "metadata": {
        "id": "QTnNSi2TpqO7",
        "outputId": "e49761a1-b3c1-4c5d-c50f-2e00d7c3c00d",
        "colab": {
          "base_uri": "https://localhost:8080/"
        }
      },
      "outputs": [
        {
          "output_type": "stream",
          "name": "stdout",
          "text": [
            "25/25 [==============================] - 0s 2ms/step\n"
          ]
        }
      ],
      "source": [
        "y_pred=model.predict(X_test)"
      ]
    },
    {
      "cell_type": "code",
      "execution_count": null,
      "metadata": {
        "id": "cE0IhMGWpqO8"
      },
      "outputs": [],
      "source": [
        "round_off=np.round_(y_pred)"
      ]
    },
    {
      "cell_type": "code",
      "execution_count": null,
      "metadata": {
        "id": "48sfR2XHpqO8",
        "outputId": "7de8c0d6-18e0-43d3-81ca-fd26210c7820",
        "colab": {
          "base_uri": "https://localhost:8080/",
          "height": 402
        }
      },
      "outputs": [
        {
          "output_type": "stream",
          "name": "stdout",
          "text": [
            "Confusion Matrix\n",
            "[[464   0]\n",
            " [  0 312]]\n"
          ]
        },
        {
          "output_type": "display_data",
          "data": {
            "text/plain": [
              "<Figure size 360x360 with 2 Axes>"
            ],
            "image/png": "[encoded data removed]"
          },
          "metadata": {
            "needs_background": "light"
          }
        }
      ],
      "source": [
        "import seaborn as sns\n",
        "from sklearn.metrics import plot_confusion_matrix\n",
        "cm=confusion_matrix(y_test.argmax(axis=1),round_off.argmax(axis=1))\n",
        "print(\"Confusion Matrix\")\n",
        "print(cm)\n",
        "\n",
        "plt.figure(figsize=(5,5))\n",
        "sns.heatmap(cm,annot=True,fmt=\"d\",cmap='Set3')\n",
        "plt.title(\"Confusion Matrix\")\n",
        "plt.ylabel(\"True class\")\n",
        "plt.xlabel(\"Predicted class\")\n",
        "plt.show()"
      ]
    },
    {
      "cell_type": "code",
      "execution_count": null,
      "metadata": {
        "id": "0Ut95I8bpqO8",
        "outputId": "8d9c6290-b596-4e98-e589-547a6e7686ac",
        "colab": {
          "base_uri": "https://localhost:8080/"
        }
      },
      "outputs": [
        {
          "output_type": "stream",
          "name": "stdout",
          "text": [
            "1/1 [==============================] - 0s 27ms/step\n",
            "dog_barking\n"
          ]
        }
      ],
      "source": [
        "mydict = {'cat': 0, 'dog_barking': 1}\n",
        "import librosa\n",
        "audio_file_path=\"/content/dog_test.wav\"\n",
        "librosa_audio_data,librosa_sample_rate=librosa.load(audio_file_path)\n",
        "mfccs = np.mean(librosa.feature.mfcc(y=librosa_audio_data, sr=librosa_sample_rate, n_mfcc=40).T,axis=0)\n",
        "x=[]\n",
        "x.append(mfccs)\n",
        "x=np.array(x)\n",
        "x=np.reshape(x,(x.shape[0],10,4,1))\n",
        "y_pre=model.predict(x)\n",
        "y_pre=np.round_(y_pre)\n",
        "a,b=np.where(y_pre==1)\n",
        "for gerne, classs in mydict.items(): \n",
        "    if classs == b[0]:\n",
        "        print(gerne)"
      ]
    },
    {
      "cell_type": "code",
      "execution_count": null,
      "metadata": {
        "id": "dVX3aQb7pqO8"
      },
      "outputs": [],
      "source": []
    }
  ],
  "metadata": {
    "colab": {
      "provenance": []
    },
    "kernelspec": {
      "display_name": "Python 3",
      "language": "python",
      "name": "python3"
    },
    "language_info": {
      "codemirror_mode": {
        "name": "ipython",
        "version": 3
      },
      "file_extension": ".py",
      "mimetype": "text/x-python",
      "name": "python",
      "nbconvert_exporter": "python",
      "pygments_lexer": "ipython3",
      "version": "3.8.5"
    }
  },
  "nbformat": 4,
  "nbformat_minor": 0
}